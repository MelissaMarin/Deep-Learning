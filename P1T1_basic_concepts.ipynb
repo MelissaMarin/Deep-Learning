{
  "nbformat": 4,
  "nbformat_minor": 0,
  "metadata": {
    "colab": {
      "name": "P1T1_basic_concepts.ipynb",
      "provenance": [],
      "toc_visible": true,
      "authorship_tag": "ABX9TyNzMYuDdyEYsZ122X07aS/x",
      "include_colab_link": true
    },
    "kernelspec": {
      "name": "python3",
      "display_name": "Python 3"
    }
  },
  "cells": [
    {
      "cell_type": "markdown",
      "metadata": {
        "id": "view-in-github",
        "colab_type": "text"
      },
      "source": [
        "<a href=\"https://colab.research.google.com/github/MelissaMarin/Deep-Learning/blob/main/P1T1_basic_concepts.ipynb\" target=\"_parent\"><img src=\"https://colab.research.google.com/assets/colab-badge.svg\" alt=\"Open In Colab\"/></a>"
      ]
    },
    {
      "cell_type": "markdown",
      "metadata": {
        "id": "7YiONDQuM9hA"
      },
      "source": [
        "\r\n",
        "###Conceptos basicos en python"
      ]
    },
    {
      "cell_type": "markdown",
      "metadata": {
        "id": "gWu4k5awPqDz"
      },
      "source": [
        "####Comparativa de programación normal vs Python"
      ]
    },
    {
      "cell_type": "markdown",
      "metadata": {
        "id": "272RKG-5Q3ls"
      },
      "source": [
        "#####Primer ejercicio en python-Número maximo"
      ]
    },
    {
      "cell_type": "code",
      "metadata": {
        "id": "oGlcAL_FsQGY",
        "colab": {
          "base_uri": "https://localhost:8080/"
        },
        "outputId": "bed4e23b-c0f8-4cf9-c144-b38098775cce"
      },
      "source": [
        "#Metodo Python\r\n",
        "var1,var2,var3= input (\"Ingrese 3 numeros separados por coma:\") .split(\",\")\r\n",
        "print (\"El numero maximo es:\"+ str(max(var1,var2,var3)))"
      ],
      "execution_count": 1,
      "outputs": [
        {
          "output_type": "stream",
          "text": [
            "Ingrese 3 numeros separados por coma:2,3,5\n",
            "El numero maximo es:5\n"
          ],
          "name": "stdout"
        }
      ]
    },
    {
      "cell_type": "markdown",
      "metadata": {
        "id": "ZstaH0_cRcBS"
      },
      "source": [
        "#####Segundo ejercicio python-Suma"
      ]
    },
    {
      "cell_type": "code",
      "metadata": {
        "id": "X8JmjX6C9srK"
      },
      "source": [
        "# Método Clásico\r\n",
        "tot=int (input(\"Ingrese Cantidad de números\"))\r\n",
        "suma=0\r\n",
        "for i in range(0,tot):\r\n",
        "  suma += int(input(\"Ingrese el valor del num \" + str(i) + \": \"))\r\n",
        "print(\" El total es: \" + str(suma))"
      ],
      "execution_count": null,
      "outputs": []
    },
    {
      "cell_type": "code",
      "metadata": {
        "id": "kRz6v7nxt1FX",
        "colab": {
          "base_uri": "https://localhost:8080/"
        },
        "outputId": "8cf49bf0-3812-416f-ae7d-3572221d6bb1"
      },
      "source": [
        "#Metodo Python\r\n",
        "suma=0\r\n",
        "for i in range(0, int(input(\"Ingrese la cantidad N de números:\"))):\r\n",
        "  suma+=int((input(\"Ingrese el valor del número \"+str(i)+\":\")))\r\n",
        "print(\"El total de la suma es: \"+str(suma))"
      ],
      "execution_count": 2,
      "outputs": [
        {
          "output_type": "stream",
          "text": [
            "Ingrese la cantidad N de números:3\n",
            "Ingrese el valor del número 0:2\n",
            "Ingrese el valor del número 1:3\n",
            "Ingrese el valor del número 2:2\n",
            "El total de la suma es: 7\n"
          ],
          "name": "stdout"
        }
      ]
    },
    {
      "cell_type": "markdown",
      "metadata": {
        "id": "5UKa-H38v6QM"
      },
      "source": [
        "#####Tercer ejercicio python-Números pares"
      ]
    },
    {
      "cell_type": "code",
      "metadata": {
        "id": "FMQDBH0B-Q9n"
      },
      "source": [
        "# Método Clásico\r\n",
        "inicio=int(input(\"Número mínimo: \"))\r\n",
        "fin=int(input(\"Número máximo: \"))\r\n",
        "for i in range(inicio, fin):\r\n",
        "  if((i%2)==0):\r\n",
        "    print(\" El número par es:\" + str(i))"
      ],
      "execution_count": null,
      "outputs": []
    },
    {
      "cell_type": "code",
      "metadata": {
        "colab": {
          "base_uri": "https://localhost:8080/"
        },
        "id": "mIPsCHliweKQ",
        "outputId": "0ddb76e0-0a52-4d8a-ff9b-dd86d2ce4f4e"
      },
      "source": [
        "#Metodo Python\r\n",
        "for i in range(int(input(\"Primer número:\")),int (input(\"Segundo número:\"))):\r\n",
        "  if((i%2)==0):\r\n",
        "    print(\"El número primo es:\" +str(i))"
      ],
      "execution_count": 3,
      "outputs": [
        {
          "output_type": "stream",
          "text": [
            "Primer número:5\n",
            "Segundo número:8\n",
            "El número primo es:6\n"
          ],
          "name": "stdout"
        }
      ]
    },
    {
      "cell_type": "markdown",
      "metadata": {
        "id": "zypjWWQGyPU2"
      },
      "source": [
        "#####Cuarto ejercicio-Manejo de listas"
      ]
    },
    {
      "cell_type": "code",
      "metadata": {
        "id": "jqcudoLO_D8P"
      },
      "source": [
        "# Método Clásico\r\n",
        "rango1 = list(range(1,13))\r\n",
        "rango2 = list(range(12,0,-1))\r\n",
        "print(rango1 + rango2)"
      ],
      "execution_count": null,
      "outputs": []
    },
    {
      "cell_type": "code",
      "metadata": {
        "id": "7shTXCblyXM-",
        "colab": {
          "base_uri": "https://localhost:8080/"
        },
        "outputId": "67b2f3be-7e1a-4233-b3c2-ee3082ab8ec1"
      },
      "source": [
        "#Metodo Python\r\n",
        "lista=list(range(1,13))\r\n",
        "print(lista+lista[::-1])"
      ],
      "execution_count": 4,
      "outputs": [
        {
          "output_type": "stream",
          "text": [
            "[1, 2, 3, 4, 5, 6, 7, 8, 9, 10, 11, 12, 12, 11, 10, 9, 8, 7, 6, 5, 4, 3, 2, 1]\n"
          ],
          "name": "stdout"
        }
      ]
    },
    {
      "cell_type": "markdown",
      "metadata": {
        "id": "SbGVbhk50uFv"
      },
      "source": [
        "#####Quinto ejercicio-Listas aleatorias"
      ]
    },
    {
      "cell_type": "code",
      "metadata": {
        "id": "lcn4wmRP_YJq"
      },
      "source": [
        "#Metodo Clasico\r\n",
        "import random\r\n",
        "lista = [random.randrange(10) for i in range(10)]\r\n",
        "print(lista)"
      ],
      "execution_count": null,
      "outputs": []
    },
    {
      "cell_type": "code",
      "metadata": {
        "id": "bnqJW3ol1FPH",
        "colab": {
          "base_uri": "https://localhost:8080/"
        },
        "outputId": "4a6437e7-c1be-49b2-9d53-1537114c7f73"
      },
      "source": [
        "#Metodo Python\r\n",
        "import random \r\n",
        "for i in range(10): print(random.randrange(100))"
      ],
      "execution_count": 5,
      "outputs": [
        {
          "output_type": "stream",
          "text": [
            "32\n",
            "68\n",
            "90\n",
            "63\n",
            "41\n",
            "92\n",
            "23\n",
            "29\n",
            "16\n",
            "92\n"
          ],
          "name": "stdout"
        }
      ]
    }
  ]
}