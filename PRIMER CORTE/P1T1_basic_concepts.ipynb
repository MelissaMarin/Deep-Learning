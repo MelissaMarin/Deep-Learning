{
  "nbformat": 4,
  "nbformat_minor": 0,
  "metadata": {
    "colab": {
      "name": "P1T1_basic_concepts.ipynb",
      "provenance": [],
      "toc_visible": true,
      "authorship_tag": "ABX9TyOulIGCWkyH9MhBaX6v5k2B",
      "include_colab_link": true
    },
    "kernelspec": {
      "name": "python3",
      "display_name": "Python 3"
    }
  },
  "cells": [
    {
      "cell_type": "markdown",
      "metadata": {
        "id": "view-in-github",
        "colab_type": "text"
      },
      "source": [
        "<a href=\"https://colab.research.google.com/github/MelissaMarin/Deep-Learning/blob/main/P1T1_basic_concepts.ipynb\" target=\"_parent\"><img src=\"https://colab.research.google.com/assets/colab-badge.svg\" alt=\"Open In Colab\"/></a>"
      ]
    },
    {
      "cell_type": "markdown",
      "metadata": {
        "id": "7YiONDQuM9hA"
      },
      "source": [
        "\r\n",
        "###Conceptos basicos en python"
      ]
    },
    {
      "cell_type": "markdown",
      "metadata": {
        "id": "gWu4k5awPqDz"
      },
      "source": [
        "####Comparativa de programación normal vs Python"
      ]
    },
    {
      "cell_type": "markdown",
      "metadata": {
        "id": "272RKG-5Q3ls"
      },
      "source": [
        "#####Primer ejercicio en python-Número maximo"
      ]
    },
    {
      "cell_type": "code",
      "metadata": {
        "id": "oGlcAL_FsQGY",
        "colab": {
          "base_uri": "https://localhost:8080/"
        },
        "outputId": "bed4e23b-c0f8-4cf9-c144-b38098775cce"
      },
      "source": [
        "#Metodo Python\r\n",
        "var1,var2,var3= input (\"Ingrese 3 numeros separados por coma:\") .split(\",\")\r\n",
        "print (\"El numero maximo es:\"+ str(max(var1,var2,var3)))"
      ],
      "execution_count": null,
      "outputs": [
        {
          "output_type": "stream",
          "text": [
            "Ingrese 3 numeros separados por coma:2,3,5\n",
            "El numero maximo es:5\n"
          ],
          "name": "stdout"
        }
      ]
    },
    {
      "cell_type": "markdown",
      "metadata": {
        "id": "ZstaH0_cRcBS"
      },
      "source": [
        "#####Segundo ejercicio python-Suma"
      ]
    },
    {
      "cell_type": "code",
      "metadata": {
        "id": "X8JmjX6C9srK"
      },
      "source": [
        "# Método Clásico\r\n",
        "tot=int (input(\"Ingrese Cantidad de números\"))\r\n",
        "suma=0\r\n",
        "for i in range(0,tot):\r\n",
        "  suma += int(input(\"Ingrese el valor del num \" + str(i) + \": \"))\r\n",
        "print(\" El total es: \" + str(suma))"
      ],
      "execution_count": null,
      "outputs": []
    },
    {
      "cell_type": "code",
      "metadata": {
        "id": "kRz6v7nxt1FX",
        "colab": {
          "base_uri": "https://localhost:8080/"
        },
        "outputId": "8cf49bf0-3812-416f-ae7d-3572221d6bb1"
      },
      "source": [
        "#Metodo Python\r\n",
        "suma=0\r\n",
        "for i in range(0, int(input(\"Ingrese la cantidad N de números:\"))):\r\n",
        "  suma+=int((input(\"Ingrese el valor del número \"+str(i)+\":\")))\r\n",
        "print(\"El total de la suma es: \"+str(suma))"
      ],
      "execution_count": null,
      "outputs": [
        {
          "output_type": "stream",
          "text": [
            "Ingrese la cantidad N de números:3\n",
            "Ingrese el valor del número 0:2\n",
            "Ingrese el valor del número 1:3\n",
            "Ingrese el valor del número 2:2\n",
            "El total de la suma es: 7\n"
          ],
          "name": "stdout"
        }
      ]
    },
    {
      "cell_type": "markdown",
      "metadata": {
        "id": "5UKa-H38v6QM"
      },
      "source": [
        "#####Tercer ejercicio python-Números pares"
      ]
    },
    {
      "cell_type": "code",
      "metadata": {
        "id": "FMQDBH0B-Q9n"
      },
      "source": [
        "# Método Clásico\r\n",
        "inicio=int(input(\"Número mínimo: \"))\r\n",
        "fin=int(input(\"Número máximo: \"))\r\n",
        "for i in range(inicio, fin):\r\n",
        "  if((i%2)==0):\r\n",
        "    print(\" El número par es:\" + str(i))"
      ],
      "execution_count": null,
      "outputs": []
    },
    {
      "cell_type": "code",
      "metadata": {
        "colab": {
          "base_uri": "https://localhost:8080/"
        },
        "id": "mIPsCHliweKQ",
        "outputId": "0ddb76e0-0a52-4d8a-ff9b-dd86d2ce4f4e"
      },
      "source": [
        "#Metodo Python\r\n",
        "for i in range(int(input(\"Primer número:\")),int (input(\"Segundo número:\"))):\r\n",
        "  if((i%2)==0):\r\n",
        "    print(\"El número primo es:\" +str(i))"
      ],
      "execution_count": null,
      "outputs": [
        {
          "output_type": "stream",
          "text": [
            "Primer número:5\n",
            "Segundo número:8\n",
            "El número primo es:6\n"
          ],
          "name": "stdout"
        }
      ]
    },
    {
      "cell_type": "markdown",
      "metadata": {
        "id": "zypjWWQGyPU2"
      },
      "source": [
        "#####Cuarto ejercicio-Manejo de listas"
      ]
    },
    {
      "cell_type": "code",
      "metadata": {
        "id": "jqcudoLO_D8P"
      },
      "source": [
        "# Método Clásico\r\n",
        "rango1 = list(range(1,13))\r\n",
        "rango2 = list(range(12,0,-1))\r\n",
        "print(rango1 + rango2)"
      ],
      "execution_count": null,
      "outputs": []
    },
    {
      "cell_type": "code",
      "metadata": {
        "id": "7shTXCblyXM-",
        "colab": {
          "base_uri": "https://localhost:8080/"
        },
        "outputId": "67b2f3be-7e1a-4233-b3c2-ee3082ab8ec1"
      },
      "source": [
        "#Metodo Python\r\n",
        "lista=list(range(1,13))\r\n",
        "print(lista+lista[::-1])"
      ],
      "execution_count": null,
      "outputs": [
        {
          "output_type": "stream",
          "text": [
            "[1, 2, 3, 4, 5, 6, 7, 8, 9, 10, 11, 12, 12, 11, 10, 9, 8, 7, 6, 5, 4, 3, 2, 1]\n"
          ],
          "name": "stdout"
        }
      ]
    },
    {
      "cell_type": "markdown",
      "metadata": {
        "id": "SbGVbhk50uFv"
      },
      "source": [
        "#####Quinto ejercicio-Listas aleatorias"
      ]
    },
    {
      "cell_type": "code",
      "metadata": {
        "id": "lcn4wmRP_YJq"
      },
      "source": [
        "#Metodo Clasico\r\n",
        "import random\r\n",
        "lista = [random.randrange(10) for i in range(10)]\r\n",
        "print(lista)"
      ],
      "execution_count": null,
      "outputs": []
    },
    {
      "cell_type": "code",
      "metadata": {
        "id": "bnqJW3ol1FPH",
        "colab": {
          "base_uri": "https://localhost:8080/"
        },
        "outputId": "4a6437e7-c1be-49b2-9d53-1537114c7f73"
      },
      "source": [
        "#Metodo Python\r\n",
        "import random \r\n",
        "for i in range(10): print(random.randrange(100))"
      ],
      "execution_count": null,
      "outputs": [
        {
          "output_type": "stream",
          "text": [
            "32\n",
            "68\n",
            "90\n",
            "63\n",
            "41\n",
            "92\n",
            "23\n",
            "29\n",
            "16\n",
            "92\n"
          ],
          "name": "stdout"
        }
      ]
    },
    {
      "cell_type": "markdown",
      "metadata": {
        "id": "zNYyfP3bs63L"
      },
      "source": [
        "#Numpy"
      ]
    },
    {
      "cell_type": "markdown",
      "metadata": {
        "id": "pF8DEWyqteh-"
      },
      "source": [
        "##Ejercicio 1: Uso de numpy"
      ]
    },
    {
      "cell_type": "code",
      "metadata": {
        "colab": {
          "base_uri": "https://localhost:8080/"
        },
        "id": "Dxk5G9EttBDU",
        "outputId": "b83e4430-bf80-4d14-d268-6bae35286ace"
      },
      "source": [
        "\r\n",
        "#Diseñar un programa donde 6 candidatos se disputan la alcaldía. Los votos de cada candidato son generados de forma aleatoria entre entre 1 y 25 mil votos maximo, el software debe decir quien gano\r\n",
        "import numpy as np\r\n",
        "from random import randint\r\n",
        "matriz = np.array([[i+1, randint(1,25000)] for i in range(6)])\r\n",
        "ganador = np.where(matriz[:,1] == matriz[:,1].max())\r\n",
        "print(\"Las votaciones:\\n \" + str(matriz)+\"\\n El ganador es: \" + str(matriz[ganador[0]]))\r\n"
      ],
      "execution_count": 1,
      "outputs": [
        {
          "output_type": "stream",
          "text": [
            "Las votaciones:\n",
            " [[    1 21735]\n",
            " [    2 10655]\n",
            " [    3  6866]\n",
            " [    4 19657]\n",
            " [    5  3624]\n",
            " [    6 13031]]\n",
            " El ganador es: [[    1 21735]]\n"
          ],
          "name": "stdout"
        }
      ]
    },
    {
      "cell_type": "markdown",
      "metadata": {
        "id": "bu2XTi3DvOrQ"
      },
      "source": [
        "##Ejercicio 2: Uso de numpy"
      ]
    },
    {
      "cell_type": "code",
      "metadata": {
        "colab": {
          "base_uri": "https://localhost:8080/"
        },
        "id": "LSluqKgDvRhI",
        "outputId": "d42fb157-bd94-4f40-d120-82b698e14eb0"
      },
      "source": [
        "#Los votos de cada candidatas son generados de forma aleatoria entre 1 y 4500 votos máximo para cada uno de los 123 municipios del departamento, el software debe determinar quien fue ganador@\r\n",
        "#Nota Creamos una matriz llamada votos, compuesta por 123 filas (municipios y 8 columnas (candidatesi y cuyo vaine de cada celda sea un randomito entre 1 y 3000\r\n",
        "import numpy as np\r\n",
        "from random import randint\r\n",
        "votos_20xx = np.random.randint(4500, size=(123,6))\r\n",
        "tot_votos = np.array([[candidato+1,votos_20xx[:,candidato].sum()] for candidato in range(len(votos_20xx[0]))])\r\n",
        "ganador = np.where(tot_votos == tot_votos[:,1].max())\r\n",
        "print(\"El candidato ganador fue: \" + str(tot_votos[ganador[0]]) + \"\\n Total de votos por cada candidato: \\n\" + str(tot_votos))"
      ],
      "execution_count": 6,
      "outputs": [
        {
          "output_type": "stream",
          "text": [
            "El candidato ganador fue: [[     2 280847]]\n",
            " Total de votos por cada candidato: \n",
            "[[     1 235898]\n",
            " [     2 280847]\n",
            " [     3 257185]\n",
            " [     4 276713]\n",
            " [     5 273999]\n",
            " [     6 269361]]\n"
          ],
          "name": "stdout"
        }
      ]
    },
    {
      "cell_type": "markdown",
      "metadata": {
        "id": "qpV5dt6Vy3Hv"
      },
      "source": [
        "##Ejercicio 3: Crear un programa para simular una carrera de formula 1"
      ]
    },
    {
      "cell_type": "code",
      "metadata": {
        "colab": {
          "base_uri": "https://localhost:8080/"
        },
        "id": "KU7O0OUMzAmN",
        "outputId": "13d2e13b-b0f9-42e6-87c7-8737b95c3ed9"
      },
      "source": [
        "# Renault, Ferrari, Mercedez, Ford, Red bull\r\n",
        "import numpy as np\r\n",
        "matriz = np.random.uniform(8.2, 10, size=(4,5))\r\n",
        "tot_vueltas = np.array([[corredor+1, matriz[:,corredor].sum()] for corredor in range(len(matriz[0]))])\r\n",
        "ganador = np.where(matriz == matriz[:,1].min())\r\n",
        "print(\"El ganador de esta carrera fue:\\n \" + str(matriz) + \"\\n El piloto ganador fue: \"+ str(tot_vueltas[ganador[0]]))"
      ],
      "execution_count": 8,
      "outputs": [
        {
          "output_type": "stream",
          "text": [
            "El ganador de esta carrera fue:\n",
            " [[8.94046472 9.38734201 9.82239332 8.55265666 9.87825756]\n",
            " [8.89078134 9.61146005 8.39665107 8.68157197 9.58040335]\n",
            " [9.47939372 9.66965881 9.27149501 9.82104537 8.68529431]\n",
            " [9.1684877  9.38376421 8.54509054 9.13278319 9.69339534]]\n",
            " El piloto ganador fue: [[ 4.         36.18805719]]\n"
          ],
          "name": "stdout"
        }
      ]
    }
  ]
}