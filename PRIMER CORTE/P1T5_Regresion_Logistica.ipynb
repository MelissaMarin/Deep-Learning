{
  "nbformat": 4,
  "nbformat_minor": 0,
  "metadata": {
    "colab": {
      "name": "P1T5_Regresion-Logistica.ipynb",
      "provenance": [],
      "collapsed_sections": [],
      "toc_visible": true
    },
    "kernelspec": {
      "name": "python3",
      "display_name": "Python 3"
    }
  },
  "cells": [
    {
      "cell_type": "markdown",
      "metadata": {
        "id": "qB0gq9W31XB6"
      },
      "source": [
        "#Ejercicios de regresión logística"
      ]
    },
    {
      "cell_type": "markdown",
      "metadata": {
        "id": "Z7B-fad01tvC"
      },
      "source": [
        "##Paso 0: Importar librerias"
      ]
    },
    {
      "cell_type": "code",
      "metadata": {
        "id": "yfhn-weI1eo6"
      },
      "source": [
        "import numpy as np #trabajar vectores\r\n",
        "import pandas as pd #ciencia de datos\r\n",
        "import matplotlib.pyplot as plt #graficas sencillas\r\n",
        "import seaborn as sns #graficas estadisticas\r\n",
        "\r\n",
        "#Importamos las librerias para una regresion logistica\r\n",
        "from sklearn.linear_model import LogisticRegression"
      ],
      "execution_count": 1,
      "outputs": []
    },
    {
      "cell_type": "markdown",
      "metadata": {
        "id": "ulPbQPzJ38gN"
      },
      "source": [
        "###Paso 0.1: Cargar el dataset desde repositorio GITHUB"
      ]
    },
    {
      "cell_type": "code",
      "metadata": {
        "colab": {
          "base_uri": "https://localhost:8080/",
          "height": 204
        },
        "id": "a0UgFdmr4C1h",
        "outputId": "817128a1-8974-43e3-b5a7-c9a0e7e74797"
      },
      "source": [
        "df = pd.DataFrame() #Creamos la instancia del PD\r\n",
        "df = pd.read_csv(\"https://raw.githubusercontent.com/luisFernandoCastellanosG/Machine_learning/master/Databasets/horas_estudio_vs_aprobacion.csv\")\r\n",
        "df.head()\r\n"
      ],
      "execution_count": 4,
      "outputs": [
        {
          "output_type": "execute_result",
          "data": {
            "text/html": [
              "<div>\n",
              "<style scoped>\n",
              "    .dataframe tbody tr th:only-of-type {\n",
              "        vertical-align: middle;\n",
              "    }\n",
              "\n",
              "    .dataframe tbody tr th {\n",
              "        vertical-align: top;\n",
              "    }\n",
              "\n",
              "    .dataframe thead th {\n",
              "        text-align: right;\n",
              "    }\n",
              "</style>\n",
              "<table border=\"1\" class=\"dataframe\">\n",
              "  <thead>\n",
              "    <tr style=\"text-align: right;\">\n",
              "      <th></th>\n",
              "      <th>horas</th>\n",
              "      <th>aprueba</th>\n",
              "    </tr>\n",
              "  </thead>\n",
              "  <tbody>\n",
              "    <tr>\n",
              "      <th>0</th>\n",
              "      <td>0.50</td>\n",
              "      <td>1</td>\n",
              "    </tr>\n",
              "    <tr>\n",
              "      <th>1</th>\n",
              "      <td>2.00</td>\n",
              "      <td>0</td>\n",
              "    </tr>\n",
              "    <tr>\n",
              "      <th>2</th>\n",
              "      <td>0.75</td>\n",
              "      <td>0</td>\n",
              "    </tr>\n",
              "    <tr>\n",
              "      <th>3</th>\n",
              "      <td>2.75</td>\n",
              "      <td>1</td>\n",
              "    </tr>\n",
              "    <tr>\n",
              "      <th>4</th>\n",
              "      <td>2.75</td>\n",
              "      <td>1</td>\n",
              "    </tr>\n",
              "  </tbody>\n",
              "</table>\n",
              "</div>"
            ],
            "text/plain": [
              "   horas  aprueba\n",
              "0   0.50        1\n",
              "1   2.00        0\n",
              "2   0.75        0\n",
              "3   2.75        1\n",
              "4   2.75        1"
            ]
          },
          "metadata": {
            "tags": []
          },
          "execution_count": 4
        }
      ]
    },
    {
      "cell_type": "markdown",
      "metadata": {
        "id": "C2etzv1_8eWu"
      },
      "source": [
        "##Paso 1:Conociendo los datos"
      ]
    },
    {
      "cell_type": "markdown",
      "metadata": {
        "id": "4YQGx1Me-ss5"
      },
      "source": [
        "###P1.1 Informacion de la data"
      ]
    },
    {
      "cell_type": "code",
      "metadata": {
        "colab": {
          "base_uri": "https://localhost:8080/",
          "height": 450
        },
        "id": "08wUsSJs-wbW",
        "outputId": "436ea9a5-119f-4aaf-ebae-90dbf681963a"
      },
      "source": [
        "df.info()\r\n",
        "df.describe()"
      ],
      "execution_count": 5,
      "outputs": [
        {
          "output_type": "stream",
          "text": [
            "<class 'pandas.core.frame.DataFrame'>\n",
            "RangeIndex: 2000 entries, 0 to 1999\n",
            "Data columns (total 2 columns):\n",
            " #   Column   Non-Null Count  Dtype  \n",
            "---  ------   --------------  -----  \n",
            " 0   horas    2000 non-null   float64\n",
            " 1   aprueba  2000 non-null   int64  \n",
            "dtypes: float64(1), int64(1)\n",
            "memory usage: 31.4 KB\n"
          ],
          "name": "stdout"
        },
        {
          "output_type": "execute_result",
          "data": {
            "text/html": [
              "<div>\n",
              "<style scoped>\n",
              "    .dataframe tbody tr th:only-of-type {\n",
              "        vertical-align: middle;\n",
              "    }\n",
              "\n",
              "    .dataframe tbody tr th {\n",
              "        vertical-align: top;\n",
              "    }\n",
              "\n",
              "    .dataframe thead th {\n",
              "        text-align: right;\n",
              "    }\n",
              "</style>\n",
              "<table border=\"1\" class=\"dataframe\">\n",
              "  <thead>\n",
              "    <tr style=\"text-align: right;\">\n",
              "      <th></th>\n",
              "      <th>horas</th>\n",
              "      <th>aprueba</th>\n",
              "    </tr>\n",
              "  </thead>\n",
              "  <tbody>\n",
              "    <tr>\n",
              "      <th>count</th>\n",
              "      <td>2000.000000</td>\n",
              "      <td>2000.000000</td>\n",
              "    </tr>\n",
              "    <tr>\n",
              "      <th>mean</th>\n",
              "      <td>2.647625</td>\n",
              "      <td>0.496000</td>\n",
              "    </tr>\n",
              "    <tr>\n",
              "      <th>std</th>\n",
              "      <td>1.415867</td>\n",
              "      <td>0.500109</td>\n",
              "    </tr>\n",
              "    <tr>\n",
              "      <th>min</th>\n",
              "      <td>0.250000</td>\n",
              "      <td>0.000000</td>\n",
              "    </tr>\n",
              "    <tr>\n",
              "      <th>25%</th>\n",
              "      <td>1.500000</td>\n",
              "      <td>0.000000</td>\n",
              "    </tr>\n",
              "    <tr>\n",
              "      <th>50%</th>\n",
              "      <td>2.750000</td>\n",
              "      <td>0.000000</td>\n",
              "    </tr>\n",
              "    <tr>\n",
              "      <th>75%</th>\n",
              "      <td>3.750000</td>\n",
              "      <td>1.000000</td>\n",
              "    </tr>\n",
              "    <tr>\n",
              "      <th>max</th>\n",
              "      <td>5.000000</td>\n",
              "      <td>1.000000</td>\n",
              "    </tr>\n",
              "  </tbody>\n",
              "</table>\n",
              "</div>"
            ],
            "text/plain": [
              "             horas      aprueba\n",
              "count  2000.000000  2000.000000\n",
              "mean      2.647625     0.496000\n",
              "std       1.415867     0.500109\n",
              "min       0.250000     0.000000\n",
              "25%       1.500000     0.000000\n",
              "50%       2.750000     0.000000\n",
              "75%       3.750000     1.000000\n",
              "max       5.000000     1.000000"
            ]
          },
          "metadata": {
            "tags": []
          },
          "execution_count": 5
        }
      ]
    },
    {
      "cell_type": "markdown",
      "metadata": {
        "id": "X_-QVLCl_NLG"
      },
      "source": [
        "###P 1.2 Datos nulos"
      ]
    },
    {
      "cell_type": "code",
      "metadata": {
        "colab": {
          "base_uri": "https://localhost:8080/"
        },
        "id": "JWxjWi7V_Rn8",
        "outputId": "2e0f166e-6279-4766-8d30-69c8be00d609"
      },
      "source": [
        "#Existen datos nulos?\r\n",
        "df.isnull()\r\n",
        "df.isnull().sum()"
      ],
      "execution_count": 6,
      "outputs": [
        {
          "output_type": "execute_result",
          "data": {
            "text/plain": [
              "horas      0\n",
              "aprueba    0\n",
              "dtype: int64"
            ]
          },
          "metadata": {
            "tags": []
          },
          "execution_count": 6
        }
      ]
    },
    {
      "cell_type": "markdown",
      "metadata": {
        "id": "OWXqvP6__a0R"
      },
      "source": [
        "###P 1.3 Conociendo las dimensiones"
      ]
    },
    {
      "cell_type": "code",
      "metadata": {
        "colab": {
          "base_uri": "https://localhost:8080/",
          "height": 359
        },
        "id": "pEU4C-XN_nlP",
        "outputId": "053ccb0b-d2c7-44db-9246-5c972d5df5fd"
      },
      "source": [
        "df.shape\r\n",
        "#visualizando filas\r\n",
        "df.head(10)"
      ],
      "execution_count": 7,
      "outputs": [
        {
          "output_type": "execute_result",
          "data": {
            "text/html": [
              "<div>\n",
              "<style scoped>\n",
              "    .dataframe tbody tr th:only-of-type {\n",
              "        vertical-align: middle;\n",
              "    }\n",
              "\n",
              "    .dataframe tbody tr th {\n",
              "        vertical-align: top;\n",
              "    }\n",
              "\n",
              "    .dataframe thead th {\n",
              "        text-align: right;\n",
              "    }\n",
              "</style>\n",
              "<table border=\"1\" class=\"dataframe\">\n",
              "  <thead>\n",
              "    <tr style=\"text-align: right;\">\n",
              "      <th></th>\n",
              "      <th>horas</th>\n",
              "      <th>aprueba</th>\n",
              "    </tr>\n",
              "  </thead>\n",
              "  <tbody>\n",
              "    <tr>\n",
              "      <th>0</th>\n",
              "      <td>0.50</td>\n",
              "      <td>1</td>\n",
              "    </tr>\n",
              "    <tr>\n",
              "      <th>1</th>\n",
              "      <td>2.00</td>\n",
              "      <td>0</td>\n",
              "    </tr>\n",
              "    <tr>\n",
              "      <th>2</th>\n",
              "      <td>0.75</td>\n",
              "      <td>0</td>\n",
              "    </tr>\n",
              "    <tr>\n",
              "      <th>3</th>\n",
              "      <td>2.75</td>\n",
              "      <td>1</td>\n",
              "    </tr>\n",
              "    <tr>\n",
              "      <th>4</th>\n",
              "      <td>2.75</td>\n",
              "      <td>1</td>\n",
              "    </tr>\n",
              "    <tr>\n",
              "      <th>5</th>\n",
              "      <td>1.25</td>\n",
              "      <td>0</td>\n",
              "    </tr>\n",
              "    <tr>\n",
              "      <th>6</th>\n",
              "      <td>2.75</td>\n",
              "      <td>1</td>\n",
              "    </tr>\n",
              "    <tr>\n",
              "      <th>7</th>\n",
              "      <td>1.50</td>\n",
              "      <td>1</td>\n",
              "    </tr>\n",
              "    <tr>\n",
              "      <th>8</th>\n",
              "      <td>1.50</td>\n",
              "      <td>0</td>\n",
              "    </tr>\n",
              "    <tr>\n",
              "      <th>9</th>\n",
              "      <td>0.50</td>\n",
              "      <td>0</td>\n",
              "    </tr>\n",
              "  </tbody>\n",
              "</table>\n",
              "</div>"
            ],
            "text/plain": [
              "   horas  aprueba\n",
              "0   0.50        1\n",
              "1   2.00        0\n",
              "2   0.75        0\n",
              "3   2.75        1\n",
              "4   2.75        1\n",
              "5   1.25        0\n",
              "6   2.75        1\n",
              "7   1.50        1\n",
              "8   1.50        0\n",
              "9   0.50        0"
            ]
          },
          "metadata": {
            "tags": []
          },
          "execution_count": 7
        }
      ]
    },
    {
      "cell_type": "markdown",
      "metadata": {
        "id": "-qhNa5gIABEv"
      },
      "source": [
        "###P 1.4 Graficando datos para entender"
      ]
    },
    {
      "cell_type": "markdown",
      "metadata": {
        "id": "FUhkibpBBTYJ"
      },
      "source": [
        "####P 1.4.1 distribucion"
      ]
    },
    {
      "cell_type": "code",
      "metadata": {
        "colab": {
          "base_uri": "https://localhost:8080/",
          "height": 571
        },
        "id": "rmsQNBr_AEet",
        "outputId": "8e28dc66-7fa5-414b-9fab-c0fa7a6299fc"
      },
      "source": [
        "sns.set(rc={'figure.figsize':(11.7,8.27)})  #tamaño del grafico\r\n",
        "sns.distplot(df['horas'])                #agregamos los datos\r\n",
        "plt.show()\r\n"
      ],
      "execution_count": 10,
      "outputs": [
        {
          "output_type": "stream",
          "text": [
            "/usr/local/lib/python3.7/dist-packages/seaborn/distributions.py:2557: FutureWarning: `distplot` is a deprecated function and will be removed in a future version. Please adapt your code to use either `displot` (a figure-level function with similar flexibility) or `histplot` (an axes-level function for histograms).\n",
            "  warnings.warn(msg, FutureWarning)\n"
          ],
          "name": "stderr"
        },
        {
          "output_type": "display_data",
          "data": {
            "image/png": "[encoded data removed]",
            "text/plain": [
              "<Figure size 842.4x595.44 with 1 Axes>"
            ]
          },
          "metadata": {
            "tags": []
          }
        }
      ]
    },
    {
      "cell_type": "markdown",
      "metadata": {
        "id": "KfALQY4PCIpe"
      },
      "source": [
        "####P 1.4.2 Graficos en X y Y"
      ]
    },
    {
      "cell_type": "code",
      "metadata": {
        "colab": {
          "base_uri": "https://localhost:8080/",
          "height": 517
        },
        "id": "2I6aRW1vBYz3",
        "outputId": "11c4dc92-e1e4-44b2-da1d-5eeea0115fe6"
      },
      "source": [
        "x=df['horas']\r\n",
        "y=df['aprueba']\r\n",
        "plt.scatter(x,y, s=15, alpha=0.5)\r\n",
        "plt.xlabel('horas esudio')\r\n",
        "plt.ylabel('aprobo/reprobo')\r\n",
        "plt.show()"
      ],
      "execution_count": 13,
      "outputs": [
        {
          "output_type": "display_data",
          "data": {
            "image/png": "[encoded data removed]",
            "text/plain": [
              "<Figure size 842.4x595.44 with 1 Axes>"
            ]
          },
          "metadata": {
            "tags": []
          }
        }
      ]
    },
    {
      "cell_type": "markdown",
      "metadata": {
        "id": "EvICwLFoD-5-"
      },
      "source": [
        "##Paso 2: Separar datos (train/test)"
      ]
    },
    {
      "cell_type": "code",
      "metadata": {
        "colab": {
          "base_uri": "https://localhost:8080/"
        },
        "id": "7VQbiDE1EFpM",
        "outputId": "9422f9af-5e1f-449a-9316-d0c8ba656a98"
      },
      "source": [
        "#Obtengo los datos limpios en x, sin enunciados\r\n",
        "#reshape= para poner una sola dimension\r\n",
        "xtrain=np.array(df['horas']).reshape(-1,1)\r\n",
        "#lo mismo para los datos de y\r\n",
        "ytrain=np.array(df['aprueba']).reshape(-1,1)\r\n",
        "print(ytrain)"
      ],
      "execution_count": 15,
      "outputs": [
        {
          "output_type": "stream",
          "text": [
            "[[1]\n",
            " [0]\n",
            " [0]\n",
            " ...\n",
            " [1]\n",
            " [0]\n",
            " [0]]\n"
          ],
          "name": "stdout"
        }
      ]
    },
    {
      "cell_type": "markdown",
      "metadata": {
        "id": "_qz3ngvvGspL"
      },
      "source": [
        "##Paso 3: Crear instancia del modelo y entrenar la regresión logistica"
      ]
    },
    {
      "cell_type": "code",
      "metadata": {
        "colab": {
          "base_uri": "https://localhost:8080/"
        },
        "id": "o-Z-fwYbGxBX",
        "outputId": "decd4cf1-be39-4151-ad9e-e3984f10e691"
      },
      "source": [
        "Reg_logistica=LogisticRegression()\r\n",
        "Reg_logistica.fit(xtrain,ytrain)"
      ],
      "execution_count": 16,
      "outputs": [
        {
          "output_type": "stream",
          "text": [
            "/usr/local/lib/python3.7/dist-packages/sklearn/utils/validation.py:760: DataConversionWarning: A column-vector y was passed when a 1d array was expected. Please change the shape of y to (n_samples, ), for example using ravel().\n",
            "  y = column_or_1d(y, warn=True)\n"
          ],
          "name": "stderr"
        },
        {
          "output_type": "execute_result",
          "data": {
            "text/plain": [
              "LogisticRegression(C=1.0, class_weight=None, dual=False, fit_intercept=True,\n",
              "                   intercept_scaling=1, l1_ratio=None, max_iter=100,\n",
              "                   multi_class='auto', n_jobs=None, penalty='l2',\n",
              "                   random_state=None, solver='lbfgs', tol=0.0001, verbose=0,\n",
              "                   warm_start=False)"
            ]
          },
          "metadata": {
            "tags": []
          },
          "execution_count": 16
        }
      ]
    },
    {
      "cell_type": "markdown",
      "metadata": {
        "id": "O_hfutM7I5eJ"
      },
      "source": [
        "##Paso 4: Haciendo predicciones"
      ]
    },
    {
      "cell_type": "code",
      "metadata": {
        "colab": {
          "base_uri": "https://localhost:8080/"
        },
        "id": "WyMznCd2I8s1",
        "outputId": "22eeef7a-198f-4703-e077-29317b5b4a84"
      },
      "source": [
        "x_horas_estudio=np.array([1,2,4,10,25,30]).reshape(-1,1)\r\n",
        "#hacemos la predicccion\r\n",
        "prediccion_ap=Reg_logistica.predict(x_horas_estudio)\r\n",
        "print(prediccion_ap)"
      ],
      "execution_count": 17,
      "outputs": [
        {
          "output_type": "stream",
          "text": [
            "[0 0 1 1 1 1]\n"
          ],
          "name": "stdout"
        }
      ]
    },
    {
      "cell_type": "markdown",
      "metadata": {
        "id": "IbjtDLZOMYWD"
      },
      "source": [
        "##Paso 5: Cuales son las probabilidades(inferencias) "
      ]
    },
    {
      "cell_type": "code",
      "metadata": {
        "colab": {
          "base_uri": "https://localhost:8080/"
        },
        "id": "kg7fa3AWMfYt",
        "outputId": "206d5787-bd2d-4ad4-effd-2b006402c388"
      },
      "source": [
        "proba_prediccion=Reg_logistica.predict_proba(x_horas_estudio)\r\n",
        "print (proba_prediccion[:,1])"
      ],
      "execution_count": 18,
      "outputs": [
        {
          "output_type": "stream",
          "text": [
            "[0.4887889  0.49316478 0.50191901 0.52815322 0.59275646 0.6137064 ]\n"
          ],
          "name": "stdout"
        }
      ]
    }
  ]
}
